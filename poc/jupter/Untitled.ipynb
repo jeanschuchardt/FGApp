{
 "cells": [
  {
   "cell_type": "code",
   "execution_count": 1,
   "metadata": {},
   "outputs": [],
   "source": [
    "import urllib3\n",
    "import shutil\n",
    "import os\n",
    "from threading import Thread\n",
    "\n",
    "def info_loader(properties):\n",
    "    anos = properties['downloads']['anos']\n",
    "    meses = properties['downloads']['meses']\n",
    "    \n",
    "    url = properties['url']['tse']\n",
    "    threads = []\n",
    "    for ano in anos:\n",
    "        for mes in meses:\n",
    "            if(mes <10):\n",
    "                url_final = url  + str(ano) + '0'+str(mes)+'_Servidores'\n",
    "                print(url_final)\n",
    "                download(url_final,ano,mes)\n",
    "\n",
    "            else:\n",
    "                url_final = url  + str(ano) + str(mes)+'_Servidores'\n",
    "                print(url_final)\n",
    "                download(url_final,ano,mes)\n",
    "\n",
    "\n",
    "           \n",
    "           \n",
    "def download(url_final,ano,mes):\n",
    "    c = urllib3.PoolManager()\n",
    "    path = 'data/unziped_files'\n",
    "    filename = path+'/' +str(ano)+'_'+str(mes)+'.zip'\n",
    "    with c.request('GET',url_final, preload_content=False) as resp, open(filename, 'wb') as out_file:\n",
    "        shutil.copyfileobj(resp, out_file)\n",
    "    resp.release_conn() \n",
    "\n"
   ]
  },
  {
   "cell_type": "code",
   "execution_count": null,
   "metadata": {},
   "outputs": [],
   "source": []
  }
 ],
 "metadata": {
  "kernelspec": {
   "display_name": "Python 3",
   "language": "python",
   "name": "python3"
  },
  "language_info": {
   "codemirror_mode": {
    "name": "ipython",
    "version": 3
   },
   "file_extension": ".py",
   "mimetype": "text/x-python",
   "name": "python",
   "nbconvert_exporter": "python",
   "pygments_lexer": "ipython3",
   "version": "3.7.4"
  }
 },
 "nbformat": 4,
 "nbformat_minor": 2
}
