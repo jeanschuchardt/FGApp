{
 "cells": [
  {
   "cell_type": "code",
   "execution_count": null,
   "metadata": {},
   "outputs": [],
   "source": [
    "import multiprocessing as mp\n",
    "import random\n",
    "import string\n",
    "\n",
    "random.seed(123)\n",
    "\n",
    "# Define an output queue\n",
    "output = mp.Queue()\n",
    "\n",
    "# define a example function\n",
    "def rand_string(length, output):\n",
    "    \"\"\" Generates a random string of numbers, lower- and uppercase chars. \"\"\"\n",
    "    rand_str = ''.join(random.choice(\n",
    "                        string.ascii_lowercase\n",
    "                        + string.ascii_uppercase\n",
    "                        + string.digits)\n",
    "                   for i in range(length))\n",
    "    output.put(rand_str)\n",
    "\n",
    "# Setup a list of processes that we want to run\n",
    "processes = [mp.Process(target=rand_string, args=(5, output)) for x in range(4)]\n",
    "\n",
    "# Run processes\n",
    "for p in processes:\n",
    "    p.start()\n",
    "\n",
    "# Exit the completed processes\n",
    "for p in processes:\n",
    "    p.join()\n",
    "\n",
    "# Get process results from the output queue\n",
    "results = [output.get() for p in processes]\n",
    "\n",
    "print(results)"
   ]
  },
  {
   "cell_type": "code",
   "execution_count": 7,
   "metadata": {},
   "outputs": [],
   "source": [
    "import multiprocessing as mp\n",
    "import random\n",
    "import string"
   ]
  },
  {
   "cell_type": "code",
   "execution_count": 8,
   "metadata": {},
   "outputs": [],
   "source": [
    "random.seed(123)"
   ]
  },
  {
   "cell_type": "code",
   "execution_count": 9,
   "metadata": {},
   "outputs": [],
   "source": [
    "# Define an output queue\n",
    "output = mp.Queue()\n",
    "\n",
    "# define a example function\n",
    "def rand_string(length, output):\n",
    "    \"\"\" Generates a random string of numbers, lower- and uppercase chars. \"\"\"\n",
    "    rand_str = ''.join(random.choice(\n",
    "                        string.ascii_lowercase\n",
    "                        + string.ascii_uppercase\n",
    "                        + string.digits)\n",
    "                   for i in range(length))\n",
    "    output.put(rand_str)"
   ]
  },
  {
   "cell_type": "code",
   "execution_count": 10,
   "metadata": {},
   "outputs": [],
   "source": [
    "\n",
    "# Setup a list of processes that we want to run\n",
    "processes = [mp.Process(target=rand_string, args=(5, output)) for x in range(4)]\n"
   ]
  },
  {
   "cell_type": "code",
   "execution_count": 11,
   "metadata": {},
   "outputs": [],
   "source": [
    "\n",
    "# Run processes\n",
    "for p in processes:\n",
    "    p.start()\n",
    "\n",
    "# Exit the completed processes\n",
    "for p in processes:\n",
    "    p.join()\n"
   ]
  },
  {
   "cell_type": "code",
   "execution_count": null,
   "metadata": {},
   "outputs": [],
   "source": [
    "\n",
    "# Get process results from the output queue\n",
    "results = [output.get() for p in processes]\n"
   ]
  },
  {
   "cell_type": "code",
   "execution_count": 6,
   "metadata": {},
   "outputs": [
    {
     "ename": "NameError",
     "evalue": "name 'results' is not defined",
     "output_type": "error",
     "traceback": [
      "\u001b[1;31m---------------------------------------------------------------------------\u001b[0m",
      "\u001b[1;31mNameError\u001b[0m                                 Traceback (most recent call last)",
      "\u001b[1;32m<ipython-input-6-7c99561e17b8>\u001b[0m in \u001b[0;36m<module>\u001b[1;34m\u001b[0m\n\u001b[1;32m----> 1\u001b[1;33m \u001b[0mprint\u001b[0m\u001b[1;33m(\u001b[0m\u001b[0mresults\u001b[0m\u001b[1;33m)\u001b[0m\u001b[1;33m\u001b[0m\u001b[1;33m\u001b[0m\u001b[0m\n\u001b[0m",
      "\u001b[1;31mNameError\u001b[0m: name 'results' is not defined"
     ]
    }
   ],
   "source": [
    "\n",
    "print(results)"
   ]
  },
  {
   "cell_type": "code",
   "execution_count": 13,
   "metadata": {},
   "outputs": [
    {
     "name": "stdout",
     "output_type": "stream",
     "text": [
      "4\n"
     ]
    }
   ],
   "source": [
    "import multiprocessing\n",
    "num_of_cpu = multiprocessing.cpu_count()\n",
    "print (num_of_cpu)"
   ]
  },
  {
   "cell_type": "code",
   "execution_count": 15,
   "metadata": {},
   "outputs": [
    {
     "name": "stdin",
     "output_type": "stream",
     "text": [
      "Provide comma-seperated-values for multiple values \n",
      "Fabonacci of :  10\n"
     ]
    },
    {
     "name": "stdout",
     "output_type": "stream",
     "text": [
      "Fibonacci of 10 is 10\n",
      "It takes 0.0 milli-seconds to calculate the fibonacci of 10 concurrently\n"
     ]
    }
   ],
   "source": [
    "import time\n",
    "def fibonacci_sequence_of(num):\n",
    "\tfirst_number = 0\n",
    "\tsecond_number = 1\n",
    "\tnum = int(num)\n",
    "\tif num == 0:\n",
    "\t\tprint (\"Fibonacci of {} is {}\".format(num,num))\n",
    "\telif num ==1:\n",
    "\t\tprint (\"Fibonacci of {} is {}\".format(num,num))\n",
    "\telse:\n",
    "\t\tfor i in range(2,num): \n",
    "\t\t\tnew_number = first_number + second_number \n",
    "\t\t\tfirst_number = second_number \n",
    "\t\t\tsecond_number = new_number\n",
    "\t\tprint (\"Fibonacci of {} is {}\".format(num,num))\n",
    "\n",
    "if __name__ == '__main__':\n",
    "\n",
    "\tinput_number = input(\"Provide comma-seperated-values for multiple values \\nFabonacci of : \") \n",
    "\tinput_values=[]\n",
    "\tinput_values = input_number.split(\",\")\n",
    "\ttoc = time.time()\n",
    "\tfor i in input_values:\n",
    "\t\tfibonacci_sequence_of(i)\n",
    "\ttic = time.time()\n",
    "\ttime_taken=round((tic-toc)*1000, 1)\n",
    "\tprint (\"It takes {} milli-seconds to calculate the fibonacci of {} concurrently\".format(time_taken,input_number))\n"
   ]
  },
  {
   "cell_type": "code",
   "execution_count": null,
   "metadata": {},
   "outputs": [
    {
     "name": "stdin",
     "output_type": "stream",
     "text": [
      "Provide comma-seperated-values for multiple values \n",
      "Fabonacci of :  5\n"
     ]
    }
   ],
   "source": [
    "import multiprocessing\n",
    "print (num_of_cpu)\n",
    "import time\n",
    "from multiprocessing import Pool\n",
    "num_of_cpu = multiprocessing.cpu_count()\n",
    "\n",
    "def fibonacci_sequence_of(num):\n",
    "    first_number = 0\n",
    "    second_number = 1\n",
    "    # Need to convert raw user input into integer for computation-\n",
    "    num = int(num)\n",
    "    if num == 0:\n",
    "        print (\"Fibonacci of {} is {}\".format(num,num))\n",
    "    elif num ==1:\n",
    "        print (\"Fibonacci of {} is {}\".format(num,num))\n",
    "    else:\n",
    "        for i in range(2,num): \n",
    "            new_number = first_number + second_number \n",
    "            first_number = second_number \n",
    "            second_number = new_number\n",
    "        print (\"Fibonacci of {} is {}\".format(num,second_number))\n",
    "\n",
    "if __name__ == '__main__':\n",
    "    input_number = input(\"Provide comma-seperated-values for multiple values \\nFabonacci of : \") \n",
    "    input_values=[]\n",
    "    input_values = input_number.split(\",\")\n",
    "    toc = time.time()\n",
    "    #Making a pool object-\n",
    "    pool = Pool()\n",
    "    #Providing numerical values in parellel for computation using .map function\n",
    "    #.map is a function that is gonna take a function and a list of something(numbes here) in interval and is going to map all those into the processors of our machine\n",
    "    result = pool.map(fibonacci_sequence_of, input_values)\n",
    "    tic = time.time()\n",
    "\n",
    "    time_taken=round((tic-toc)*1000, 1)\n",
    "    print (\"It takes {} milli-seconds to calculate the fibonacci of {} in parellel \".format(time_taken,input_number))\n",
    "    #Waiting for this process to finish running then close-\n",
    "    pool.close()\n",
    "    pool.join()"
   ]
  },
  {
   "cell_type": "code",
   "execution_count": null,
   "metadata": {},
   "outputs": [],
   "source": []
  }
 ],
 "metadata": {
  "kernelspec": {
   "display_name": "Python 3",
   "language": "python",
   "name": "python3"
  },
  "language_info": {
   "codemirror_mode": {
    "name": "ipython",
    "version": 3
   },
   "file_extension": ".py",
   "mimetype": "text/x-python",
   "name": "python",
   "nbconvert_exporter": "python",
   "pygments_lexer": "ipython3",
   "version": "3.7.4"
  }
 },
 "nbformat": 4,
 "nbformat_minor": 4
}
