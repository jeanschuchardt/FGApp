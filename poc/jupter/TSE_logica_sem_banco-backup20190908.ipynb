{
 "cells": [
  {
   "cell_type": "code",
   "execution_count": 1,
   "metadata": {},
   "outputs": [],
   "source": [
    "import pandas as pd\n",
    "from sqlalchemy import create_engine\n",
    "import numpy as np"
   ]
  },
  {
   "cell_type": "code",
   "execution_count": 2,
   "metadata": {},
   "outputs": [],
   "source": [
    "path = \"D:\\\\Github\\\\raw_data\\\\Unziper\\\\test.csv\"\n",
    "#path = \"D:\\\\Github\\\\raw_data\\\\Unziper\\\\filiados_pt_sc.csv\""
   ]
  },
  {
   "cell_type": "code",
   "execution_count": 3,
   "metadata": {},
   "outputs": [],
   "source": [
    "try:\n",
    "    f=pd.read_csv(path, encoding =\"ansi\", delimiter=';',low_memory=False, skipinitialspace=True)\n",
    "except:\n",
    "    print(\"erro de leitura\")  \n"
   ]
  },
  {
   "cell_type": "code",
   "execution_count": 4,
   "metadata": {},
   "outputs": [],
   "source": [
    "keep_col = ['NOME DO FILIADO','NUMERO DA INSCRICAO','SIGLA DO PARTIDO','UF','NOME DO MUNICIPIO','ZONA ELEITORAL','SECAO ELEITORAL','DATA DA FILIACAO','SITUACAO DO REGISTRO','DATA DA DESFILIACAO']\n",
    "y = f[keep_col]\n",
    "       "
   ]
  },
  {
   "cell_type": "code",
   "execution_count": 5,
   "metadata": {},
   "outputs": [],
   "source": [
    "y.columns = y.columns.str.replace('\\D(R\\$\\D)','')\n",
    "y.columns = y.columns.str.replace('\\D(\\*\\D)','')\n",
    "y.columns = y.columns.str.replace('\\/^\\s+|\\s+$','')\n",
    "y.columns = y.columns.str.replace(' ','_')\n"
   ]
  },
  {
   "cell_type": "code",
   "execution_count": 6,
   "metadata": {},
   "outputs": [
    {
     "data": {
      "text/html": [
       "<div>\n",
       "<style scoped>\n",
       "    .dataframe tbody tr th:only-of-type {\n",
       "        vertical-align: middle;\n",
       "    }\n",
       "\n",
       "    .dataframe tbody tr th {\n",
       "        vertical-align: top;\n",
       "    }\n",
       "\n",
       "    .dataframe thead th {\n",
       "        text-align: right;\n",
       "    }\n",
       "</style>\n",
       "<table border=\"1\" class=\"dataframe\">\n",
       "  <thead>\n",
       "    <tr style=\"text-align: right;\">\n",
       "      <th></th>\n",
       "      <th>NOME_DO_FILIADO</th>\n",
       "      <th>NUMERO_DA_INSCRICAO</th>\n",
       "      <th>SIGLA_DO_PARTIDO</th>\n",
       "      <th>UF</th>\n",
       "      <th>NOME_DO_MUNICIPIO</th>\n",
       "      <th>ZONA_ELEITORAL</th>\n",
       "      <th>SECAO_ELEITORAL</th>\n",
       "      <th>DATA_DA_FILIACAO</th>\n",
       "      <th>SITUACAO_DO_REGISTRO</th>\n",
       "      <th>DATA_DA_DESFILIACAO</th>\n",
       "    </tr>\n",
       "  </thead>\n",
       "  <tbody>\n",
       "    <tr>\n",
       "      <th>0</th>\n",
       "      <td>ANTONIO JOSE DE OLIVEIRA</td>\n",
       "      <td>2424612640</td>\n",
       "      <td>PT</td>\n",
       "      <td>RR</td>\n",
       "      <td>BOA VISTA</td>\n",
       "      <td>1</td>\n",
       "      <td>309</td>\n",
       "      <td>21/01/2005</td>\n",
       "      <td>CANCELADO</td>\n",
       "      <td>01/10/2013</td>\n",
       "    </tr>\n",
       "    <tr>\n",
       "      <th>3</th>\n",
       "      <td>FRANCISCO RONNY BESSA QUEIROZ</td>\n",
       "      <td>2280962658</td>\n",
       "      <td>PT</td>\n",
       "      <td>RR</td>\n",
       "      <td>PACARAIMA</td>\n",
       "      <td>7</td>\n",
       "      <td>21</td>\n",
       "      <td>25/09/2003</td>\n",
       "      <td>CANCELADO</td>\n",
       "      <td>30/12/2011</td>\n",
       "    </tr>\n",
       "    <tr>\n",
       "      <th>10</th>\n",
       "      <td>ELIAS ALVES VIEIRA</td>\n",
       "      <td>3096922208</td>\n",
       "      <td>PT</td>\n",
       "      <td>RR</td>\n",
       "      <td>BOA VISTA</td>\n",
       "      <td>5</td>\n",
       "      <td>287</td>\n",
       "      <td>17/04/1996</td>\n",
       "      <td>CANCELADO</td>\n",
       "      <td>11/04/2018</td>\n",
       "    </tr>\n",
       "    <tr>\n",
       "      <th>14</th>\n",
       "      <td>JOAO SALUSTIANO</td>\n",
       "      <td>54852623</td>\n",
       "      <td>PT</td>\n",
       "      <td>RR</td>\n",
       "      <td>CANTÁ</td>\n",
       "      <td>3</td>\n",
       "      <td>124</td>\n",
       "      <td>08/01/2003</td>\n",
       "      <td>CANCELADO</td>\n",
       "      <td>16/04/2012</td>\n",
       "    </tr>\n",
       "  </tbody>\n",
       "</table>\n",
       "</div>"
      ],
      "text/plain": [
       "                  NOME_DO_FILIADO  NUMERO_DA_INSCRICAO SIGLA_DO_PARTIDO  UF  \\\n",
       "0        ANTONIO JOSE DE OLIVEIRA           2424612640               PT  RR   \n",
       "3   FRANCISCO RONNY BESSA QUEIROZ           2280962658               PT  RR   \n",
       "10             ELIAS ALVES VIEIRA           3096922208               PT  RR   \n",
       "14                JOAO SALUSTIANO             54852623               PT  RR   \n",
       "\n",
       "   NOME_DO_MUNICIPIO  ZONA_ELEITORAL  SECAO_ELEITORAL DATA_DA_FILIACAO  \\\n",
       "0          BOA VISTA               1              309       21/01/2005   \n",
       "3          PACARAIMA               7               21       25/09/2003   \n",
       "10         BOA VISTA               5              287       17/04/1996   \n",
       "14             CANTÁ               3              124       08/01/2003   \n",
       "\n",
       "   SITUACAO_DO_REGISTRO DATA_DA_DESFILIACAO  \n",
       "0             CANCELADO          01/10/2013  \n",
       "3             CANCELADO          30/12/2011  \n",
       "10            CANCELADO          11/04/2018  \n",
       "14            CANCELADO          16/04/2012  "
      ]
     },
     "execution_count": 6,
     "metadata": {},
     "output_type": "execute_result"
    }
   ],
   "source": [
    "taes = y.groupby('SITUACAO_DO_REGISTRO')\n",
    "taes.get_group('CANCELADO')\n",
    "\n"
   ]
  },
  {
   "cell_type": "code",
   "execution_count": null,
   "metadata": {},
   "outputs": [],
   "source": []
  },
  {
   "cell_type": "code",
   "execution_count": 7,
   "metadata": {},
   "outputs": [],
   "source": [
    "def situacao_registro(data_frame):\n",
    "    return  data_frame.groupby('SITUACAO_DO_REGISTRO')"
   ]
  },
  {
   "cell_type": "code",
   "execution_count": 8,
   "metadata": {},
   "outputs": [],
   "source": [
    "def sr_cancelado(sr_gb):\n",
    "    CANCELADO = 'CANCELADO'\n",
    "    df_cancelado = sr_gb.get_group(CANCELADO)\n",
    "    return df_cancelado"
   ]
  },
  {
   "cell_type": "code",
   "execution_count": 9,
   "metadata": {},
   "outputs": [],
   "source": [
    "def sr_regular(sr_gb):\n",
    "    REGULAR = 'REGULAR'\n",
    "    df_regular = sr_gb.get_group(REGULAR)\n",
    "    return df_regular"
   ]
  },
  {
   "cell_type": "code",
   "execution_count": 10,
   "metadata": {},
   "outputs": [],
   "source": [
    "def cancelado_grouby(df):\n",
    "    not_null = df[df['DATA_DA_DESFILIACAO'].notnull()]\n",
    "    is_null = df[df['DATA_DA_DESFILIACAO'].isnull()]\n",
    "    return not_null,is_null\n"
   ]
  },
  {
   "cell_type": "code",
   "execution_count": 11,
   "metadata": {},
   "outputs": [],
   "source": [
    "#main\n",
    "\n",
    "sr_gb =  situacao_registro(y)\n",
    "\n",
    "df_cancelado = sr_cancelado(sr_gb)\n",
    "\n",
    "df_regular = sr_regular(sr_gb)\n",
    "\n",
    "# quando o cancelado for null salvar esse registro em um outra tabela para  tentar processar os dados mais tardes #\n",
    "cancelado_not_null,cancelado_is_null = cancelado_grouby(df_cancelado)\n",
    "\n",
    "#cancelado_not_null\n",
    "#gb_cancelado"
   ]
  },
  {
   "cell_type": "code",
   "execution_count": 16,
   "metadata": {},
   "outputs": [
    {
     "data": {
      "text/html": [
       "<div>\n",
       "<style scoped>\n",
       "    .dataframe tbody tr th:only-of-type {\n",
       "        vertical-align: middle;\n",
       "    }\n",
       "\n",
       "    .dataframe tbody tr th {\n",
       "        vertical-align: top;\n",
       "    }\n",
       "\n",
       "    .dataframe thead th {\n",
       "        text-align: right;\n",
       "    }\n",
       "</style>\n",
       "<table border=\"1\" class=\"dataframe\">\n",
       "  <thead>\n",
       "    <tr style=\"text-align: right;\">\n",
       "      <th></th>\n",
       "      <th>NOME_DO_FILIADO</th>\n",
       "      <th>NUMERO_DA_INSCRICAO</th>\n",
       "      <th>SIGLA_DO_PARTIDO</th>\n",
       "      <th>UF</th>\n",
       "      <th>NOME_DO_MUNICIPIO</th>\n",
       "      <th>ZONA_ELEITORAL</th>\n",
       "      <th>SECAO_ELEITORAL</th>\n",
       "      <th>DATA_DA_FILIACAO</th>\n",
       "      <th>SITUACAO_DO_REGISTRO</th>\n",
       "      <th>DATA_DA_DESFILIACAO</th>\n",
       "    </tr>\n",
       "  </thead>\n",
       "  <tbody>\n",
       "    <tr>\n",
       "      <th>0</th>\n",
       "      <td>ANTONIO JOSE DE OLIVEIRA</td>\n",
       "      <td>2424612640</td>\n",
       "      <td>PT</td>\n",
       "      <td>RR</td>\n",
       "      <td>BOA VISTA</td>\n",
       "      <td>1</td>\n",
       "      <td>309</td>\n",
       "      <td>21/01/2005</td>\n",
       "      <td>CANCELADO</td>\n",
       "      <td>01/10/2013</td>\n",
       "    </tr>\n",
       "    <tr>\n",
       "      <th>3</th>\n",
       "      <td>FRANCISCO RONNY BESSA QUEIROZ</td>\n",
       "      <td>2280962658</td>\n",
       "      <td>PT</td>\n",
       "      <td>RR</td>\n",
       "      <td>PACARAIMA</td>\n",
       "      <td>7</td>\n",
       "      <td>21</td>\n",
       "      <td>25/09/2003</td>\n",
       "      <td>CANCELADO</td>\n",
       "      <td>30/12/2011</td>\n",
       "    </tr>\n",
       "    <tr>\n",
       "      <th>10</th>\n",
       "      <td>ELIAS ALVES VIEIRA</td>\n",
       "      <td>3096922208</td>\n",
       "      <td>PT</td>\n",
       "      <td>RR</td>\n",
       "      <td>BOA VISTA</td>\n",
       "      <td>5</td>\n",
       "      <td>287</td>\n",
       "      <td>17/04/1996</td>\n",
       "      <td>CANCELADO</td>\n",
       "      <td>11/04/2018</td>\n",
       "    </tr>\n",
       "    <tr>\n",
       "      <th>14</th>\n",
       "      <td>JOAO SALUSTIANO</td>\n",
       "      <td>54852623</td>\n",
       "      <td>PT</td>\n",
       "      <td>RR</td>\n",
       "      <td>CANTÁ</td>\n",
       "      <td>3</td>\n",
       "      <td>124</td>\n",
       "      <td>08/01/2003</td>\n",
       "      <td>CANCELADO</td>\n",
       "      <td>16/04/2012</td>\n",
       "    </tr>\n",
       "  </tbody>\n",
       "</table>\n",
       "</div>"
      ],
      "text/plain": [
       "                  NOME_DO_FILIADO  NUMERO_DA_INSCRICAO SIGLA_DO_PARTIDO  UF  \\\n",
       "0        ANTONIO JOSE DE OLIVEIRA           2424612640               PT  RR   \n",
       "3   FRANCISCO RONNY BESSA QUEIROZ           2280962658               PT  RR   \n",
       "10             ELIAS ALVES VIEIRA           3096922208               PT  RR   \n",
       "14                JOAO SALUSTIANO             54852623               PT  RR   \n",
       "\n",
       "   NOME_DO_MUNICIPIO  ZONA_ELEITORAL  SECAO_ELEITORAL DATA_DA_FILIACAO  \\\n",
       "0          BOA VISTA               1              309       21/01/2005   \n",
       "3          PACARAIMA               7               21       25/09/2003   \n",
       "10         BOA VISTA               5              287       17/04/1996   \n",
       "14             CANTÁ               3              124       08/01/2003   \n",
       "\n",
       "   SITUACAO_DO_REGISTRO DATA_DA_DESFILIACAO  \n",
       "0             CANCELADO          01/10/2013  \n",
       "3             CANCELADO          30/12/2011  \n",
       "10            CANCELADO          11/04/2018  \n",
       "14            CANCELADO          16/04/2012  "
      ]
     },
     "execution_count": 16,
     "metadata": {},
     "output_type": "execute_result"
    }
   ],
   "source": [
    "cancelado_not_null\n",
    "\n",
    "# fazer um filtro de tempo passando mes e ano \n",
    "# esse filto deve ser generico\n",
    "\n",
    "# verificar se nos cancalados null e nos cancalados not null nao tem conflitos de id\n",
    "\n",
    "# varificar o que fazer com os registro com mais de 100 anos\n",
    "\n",
    "\n",
    "\n",
    "#"
   ]
  },
  {
   "cell_type": "code",
   "execution_count": 17,
   "metadata": {},
   "outputs": [
    {
     "data": {
      "text/html": [
       "<div>\n",
       "<style scoped>\n",
       "    .dataframe tbody tr th:only-of-type {\n",
       "        vertical-align: middle;\n",
       "    }\n",
       "\n",
       "    .dataframe tbody tr th {\n",
       "        vertical-align: top;\n",
       "    }\n",
       "\n",
       "    .dataframe thead th {\n",
       "        text-align: right;\n",
       "    }\n",
       "</style>\n",
       "<table border=\"1\" class=\"dataframe\">\n",
       "  <thead>\n",
       "    <tr style=\"text-align: right;\">\n",
       "      <th></th>\n",
       "      <th>NOME_DO_FILIADO</th>\n",
       "      <th>NUMERO_DA_INSCRICAO</th>\n",
       "      <th>SIGLA_DO_PARTIDO</th>\n",
       "      <th>UF</th>\n",
       "      <th>NOME_DO_MUNICIPIO</th>\n",
       "      <th>ZONA_ELEITORAL</th>\n",
       "      <th>SECAO_ELEITORAL</th>\n",
       "      <th>DATA_DA_FILIACAO</th>\n",
       "      <th>SITUACAO_DO_REGISTRO</th>\n",
       "      <th>DATA_DA_DESFILIACAO</th>\n",
       "    </tr>\n",
       "  </thead>\n",
       "  <tbody>\n",
       "    <tr>\n",
       "      <th>0</th>\n",
       "      <td>ANTONIO JOSE DE OLIVEIRA</td>\n",
       "      <td>2424612640</td>\n",
       "      <td>PT</td>\n",
       "      <td>RR</td>\n",
       "      <td>BOA VISTA</td>\n",
       "      <td>1</td>\n",
       "      <td>309</td>\n",
       "      <td>21/01/2005</td>\n",
       "      <td>CANCELADO</td>\n",
       "      <td>01/10/2013</td>\n",
       "    </tr>\n",
       "    <tr>\n",
       "      <th>3</th>\n",
       "      <td>FRANCISCO RONNY BESSA QUEIROZ</td>\n",
       "      <td>2280962658</td>\n",
       "      <td>PT</td>\n",
       "      <td>RR</td>\n",
       "      <td>PACARAIMA</td>\n",
       "      <td>7</td>\n",
       "      <td>21</td>\n",
       "      <td>25/09/2003</td>\n",
       "      <td>CANCELADO</td>\n",
       "      <td>30/12/2011</td>\n",
       "    </tr>\n",
       "    <tr>\n",
       "      <th>10</th>\n",
       "      <td>ELIAS ALVES VIEIRA</td>\n",
       "      <td>3096922208</td>\n",
       "      <td>PT</td>\n",
       "      <td>RR</td>\n",
       "      <td>BOA VISTA</td>\n",
       "      <td>5</td>\n",
       "      <td>287</td>\n",
       "      <td>17/04/1996</td>\n",
       "      <td>CANCELADO</td>\n",
       "      <td>11/04/2018</td>\n",
       "    </tr>\n",
       "    <tr>\n",
       "      <th>14</th>\n",
       "      <td>JOAO SALUSTIANO</td>\n",
       "      <td>54852623</td>\n",
       "      <td>PT</td>\n",
       "      <td>RR</td>\n",
       "      <td>CANTÁ</td>\n",
       "      <td>3</td>\n",
       "      <td>124</td>\n",
       "      <td>08/01/2003</td>\n",
       "      <td>CANCELADO</td>\n",
       "      <td>16/04/2012</td>\n",
       "    </tr>\n",
       "  </tbody>\n",
       "</table>\n",
       "</div>"
      ],
      "text/plain": [
       "                  NOME_DO_FILIADO  NUMERO_DA_INSCRICAO SIGLA_DO_PARTIDO  UF  \\\n",
       "0        ANTONIO JOSE DE OLIVEIRA           2424612640               PT  RR   \n",
       "3   FRANCISCO RONNY BESSA QUEIROZ           2280962658               PT  RR   \n",
       "10             ELIAS ALVES VIEIRA           3096922208               PT  RR   \n",
       "14                JOAO SALUSTIANO             54852623               PT  RR   \n",
       "\n",
       "   NOME_DO_MUNICIPIO  ZONA_ELEITORAL  SECAO_ELEITORAL DATA_DA_FILIACAO  \\\n",
       "0          BOA VISTA               1              309       21/01/2005   \n",
       "3          PACARAIMA               7               21       25/09/2003   \n",
       "10         BOA VISTA               5              287       17/04/1996   \n",
       "14             CANTÁ               3              124       08/01/2003   \n",
       "\n",
       "   SITUACAO_DO_REGISTRO DATA_DA_DESFILIACAO  \n",
       "0             CANCELADO          01/10/2013  \n",
       "3             CANCELADO          30/12/2011  \n",
       "10            CANCELADO          11/04/2018  \n",
       "14            CANCELADO          16/04/2012  "
      ]
     },
     "execution_count": 17,
     "metadata": {},
     "output_type": "execute_result"
    }
   ],
   "source": [
    "#df_cancelado['dat'] = np.nan\n",
    "df_cancelado\n",
    "\n",
    "#DATA_DA_DESFILIACAO\n"
   ]
  },
  {
   "cell_type": "code",
   "execution_count": null,
   "metadata": {},
   "outputs": [],
   "source": [
    "df_re"
   ]
  },
  {
   "cell_type": "code",
   "execution_count": null,
   "metadata": {},
   "outputs": [],
   "source": [
    "#print(type(df))\n",
    "df\n",
    "\n",
    "df.head()"
   ]
  },
  {
   "cell_type": "code",
   "execution_count": null,
   "metadata": {},
   "outputs": [],
   "source": []
  },
  {
   "cell_type": "code",
   "execution_count": null,
   "metadata": {},
   "outputs": [],
   "source": [
    "duplicateRowsDF = df[df.duplicated(['NOME DO FILIADO','NUMERO DA INSCRICAO','SIGLA DO PARTIDO','UF','NOME DO MUNICIPIO','ZONA ELEITORAL','SECAO ELEITORAL','DATA DA FILIACAO'])]"
   ]
  },
  {
   "cell_type": "code",
   "execution_count": null,
   "metadata": {},
   "outputs": [],
   "source": [
    "df.loc[df['NUMERO DA INSCRICAO'] == 5957580434]\n",
    "df.sort_values(by=['NUMERO DA INSCRICAO'])\n"
   ]
  },
  {
   "cell_type": "code",
   "execution_count": null,
   "metadata": {},
   "outputs": [],
   "source": [
    "duplicateRowsDF = df[df.duplicated()]"
   ]
  },
  {
   "cell_type": "code",
   "execution_count": null,
   "metadata": {},
   "outputs": [],
   "source": [
    "print(duplicateRowsDF)"
   ]
  },
  {
   "cell_type": "code",
   "execution_count": null,
   "metadata": {},
   "outputs": [],
   "source": [
    "dr = df"
   ]
  },
  {
   "cell_type": "code",
   "execution_count": null,
   "metadata": {},
   "outputs": [],
   "source": [
    "dr = dr.drop_duplicates(['NOME DO FILIADO','NUMERO DA INSCRICAO','SIGLA DO PARTIDO','UF','NOME DO MUNICIPIO','ZONA ELEITORAL','SECAO ELEITORAL','DATA DA FILIACAO'])"
   ]
  },
  {
   "cell_type": "code",
   "execution_count": null,
   "metadata": {},
   "outputs": [],
   "source": [
    "dr = dr.drop_duplicates()\n"
   ]
  },
  {
   "cell_type": "code",
   "execution_count": null,
   "metadata": {},
   "outputs": [],
   "source": [
    "duplicateRowsDF = dr[dr.duplicated()]\n",
    "print(duplicateRowsDF)"
   ]
  },
  {
   "cell_type": "code",
   "execution_count": null,
   "metadata": {},
   "outputs": [],
   "source": [
    "df.loc[df['NUMERO DA INSCRICAO'] == 49690240485]"
   ]
  },
  {
   "cell_type": "code",
   "execution_count": null,
   "metadata": {},
   "outputs": [],
   "source": [
    "dr.loc[dr['SITUACAO DO REGISTRO'] != 'REGULAR']"
   ]
  },
  {
   "cell_type": "code",
   "execution_count": null,
   "metadata": {},
   "outputs": [],
   "source": [
    "x = dr.dropna()\n"
   ]
  },
  {
   "cell_type": "code",
   "execution_count": null,
   "metadata": {},
   "outputs": [],
   "source": [
    "x.count()"
   ]
  },
  {
   "cell_type": "code",
   "execution_count": null,
   "metadata": {},
   "outputs": [],
   "source": [
    "dr.count()"
   ]
  },
  {
   "cell_type": "code",
   "execution_count": null,
   "metadata": {},
   "outputs": [],
   "source": [
    "dr.count() - x.count()\n"
   ]
  },
  {
   "cell_type": "code",
   "execution_count": null,
   "metadata": {},
   "outputs": [],
   "source": []
  }
 ],
 "metadata": {
  "kernelspec": {
   "display_name": "Python 3",
   "language": "python",
   "name": "python3"
  },
  "language_info": {
   "codemirror_mode": {
    "name": "ipython",
    "version": 3
   },
   "file_extension": ".py",
   "mimetype": "text/x-python",
   "name": "python",
   "nbconvert_exporter": "python",
   "pygments_lexer": "ipython3",
   "version": "3.7.4"
  }
 },
 "nbformat": 4,
 "nbformat_minor": 4
}
